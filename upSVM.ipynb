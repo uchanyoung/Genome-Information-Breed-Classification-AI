{
 "cells": [
  {
   "cell_type": "code",
   "execution_count": 6,
   "id": "dca9e948",
   "metadata": {},
   "outputs": [],
   "source": [
    "import pandas as pd \n",
    "import numpy as np \n",
    "import random\n",
    "import os\n",
    "from imblearn.over_sampling import SMOTE\n",
    "\n",
    "# 시각화 옵션 \n",
    "from IPython.display import set_matplotlib_formats\n"
   ]
  },
  {
   "cell_type": "code",
   "execution_count": 7,
   "id": "07eeb244",
   "metadata": {},
   "outputs": [],
   "source": [
    "train = pd.read_csv('train.csv')\n",
    "test = pd.read_csv('test.csv')\n",
    "\n",
    "class CFG:\n",
    "    SEED = 42\n",
    "\n",
    "def seed_everything(seed):\n",
    "    random.seed(seed)\n",
    "    os.environ['PYTHONHASHSEED'] = str(seed)\n",
    "    np.random.seed(seed)\n",
    "seed_everything(CFG.SEED) # Seed 고정\n",
    "\n",
    "def get_x_y(df):\n",
    "    if 'class' in df.columns:\n",
    "        df_x = df.drop(columns=['id', 'class'])\n",
    "        df_y = df['class']\n",
    "        return df_x, df_y\n",
    "    else:\n",
    "        df_x = df.drop(columns=['id'])\n",
    "        return df_x\n",
    "\n",
    "train_x, train_y = get_x_y(train)\n",
    "test_x = get_x_y(test)"
   ]
  },
  {
   "cell_type": "code",
   "execution_count": 8,
   "id": "af1d0a9e",
   "metadata": {},
   "outputs": [],
   "source": [
    "X_train =  pd.get_dummies(train_x.drop(columns=['father','mother','gender','SNP_01','SNP_02', 'SNP_06', 'SNP_12']))\n",
    "test_x = pd.get_dummies(test_x.drop(columns=['father','mother','gender','SNP_01','SNP_02', 'SNP_06', 'SNP_12']))\n",
    "Y_train = train_y\n",
    "\n",
    "sampler = SMOTE()\n",
    "sampler.fit(X_train, Y_train)\n",
    "\n",
    "X_train, Y_train = sampler.fit_resample(X_train, Y_train)\n"
   ]
  },
  {
   "cell_type": "code",
   "execution_count": 9,
   "id": "f8b63e08",
   "metadata": {},
   "outputs": [],
   "source": [
    "from sklearn.model_selection import train_test_split\n",
    "\n",
    "from sklearn.pipeline import Pipeline\n",
    "from sklearn.preprocessing import MinMaxScaler\n",
    "from sklearn.svm import SVC\n",
    "\n",
    "from sklearn.model_selection import GridSearchCV\n",
    "from sklearn.metrics import classification_report"
   ]
  },
  {
   "cell_type": "code",
   "execution_count": 10,
   "id": "57f783aa",
   "metadata": {},
   "outputs": [],
   "source": [
    "pipe_list = [('model',SVC())]\n",
    "pip_model = Pipeline(pipe_list)"
   ]
  },
  {
   "cell_type": "code",
   "execution_count": 11,
   "id": "a6ca83ef",
   "metadata": {},
   "outputs": [
    {
     "name": "stderr",
     "output_type": "stream",
     "text": [
      "/Users/yungchannelforyou/opt/anaconda3/envs/dacon1/lib/python3.7/site-packages/sklearn/model_selection/_validation.py:774: UserWarning: Scoring failed. The score on this train-test partition for these parameters will be set to nan. Details: \n",
      "Traceback (most recent call last):\n",
      "  File \"/Users/yungchannelforyou/opt/anaconda3/envs/dacon1/lib/python3.7/site-packages/sklearn/model_selection/_validation.py\", line 761, in _score\n",
      "    scores = scorer(estimator, X_test, y_test)\n",
      "  File \"/Users/yungchannelforyou/opt/anaconda3/envs/dacon1/lib/python3.7/site-packages/sklearn/metrics/_scorer.py\", line 221, in __call__\n",
      "    sample_weight=sample_weight,\n",
      "  File \"/Users/yungchannelforyou/opt/anaconda3/envs/dacon1/lib/python3.7/site-packages/sklearn/metrics/_scorer.py\", line 264, in _score\n",
      "    return self._sign * self._score_func(y_true, y_pred, **self._kwargs)\n",
      "  File \"/Users/yungchannelforyou/opt/anaconda3/envs/dacon1/lib/python3.7/site-packages/sklearn/metrics/_classification.py\", line 1131, in f1_score\n",
      "    zero_division=zero_division,\n",
      "  File \"/Users/yungchannelforyou/opt/anaconda3/envs/dacon1/lib/python3.7/site-packages/sklearn/metrics/_classification.py\", line 1270, in fbeta_score\n",
      "    zero_division=zero_division,\n",
      "  File \"/Users/yungchannelforyou/opt/anaconda3/envs/dacon1/lib/python3.7/site-packages/sklearn/metrics/_classification.py\", line 1544, in precision_recall_fscore_support\n",
      "    labels = _check_set_wise_labels(y_true, y_pred, average, labels, pos_label)\n",
      "  File \"/Users/yungchannelforyou/opt/anaconda3/envs/dacon1/lib/python3.7/site-packages/sklearn/metrics/_classification.py\", line 1367, in _check_set_wise_labels\n",
      "    \"choose another average setting, one of %r.\" % (y_type, average_options)\n",
      "ValueError: Target is multiclass but average='binary'. Please choose another average setting, one of [None, 'micro', 'macro', 'weighted'].\n",
      "\n",
      "  UserWarning,\n",
      "/Users/yungchannelforyou/opt/anaconda3/envs/dacon1/lib/python3.7/site-packages/sklearn/model_selection/_validation.py:774: UserWarning: Scoring failed. The score on this train-test partition for these parameters will be set to nan. Details: \n",
      "Traceback (most recent call last):\n",
      "  File \"/Users/yungchannelforyou/opt/anaconda3/envs/dacon1/lib/python3.7/site-packages/sklearn/model_selection/_validation.py\", line 761, in _score\n",
      "    scores = scorer(estimator, X_test, y_test)\n",
      "  File \"/Users/yungchannelforyou/opt/anaconda3/envs/dacon1/lib/python3.7/site-packages/sklearn/metrics/_scorer.py\", line 221, in __call__\n",
      "    sample_weight=sample_weight,\n",
      "  File \"/Users/yungchannelforyou/opt/anaconda3/envs/dacon1/lib/python3.7/site-packages/sklearn/metrics/_scorer.py\", line 264, in _score\n",
      "    return self._sign * self._score_func(y_true, y_pred, **self._kwargs)\n",
      "  File \"/Users/yungchannelforyou/opt/anaconda3/envs/dacon1/lib/python3.7/site-packages/sklearn/metrics/_classification.py\", line 1131, in f1_score\n",
      "    zero_division=zero_division,\n",
      "  File \"/Users/yungchannelforyou/opt/anaconda3/envs/dacon1/lib/python3.7/site-packages/sklearn/metrics/_classification.py\", line 1270, in fbeta_score\n",
      "    zero_division=zero_division,\n",
      "  File \"/Users/yungchannelforyou/opt/anaconda3/envs/dacon1/lib/python3.7/site-packages/sklearn/metrics/_classification.py\", line 1544, in precision_recall_fscore_support\n",
      "    labels = _check_set_wise_labels(y_true, y_pred, average, labels, pos_label)\n",
      "  File \"/Users/yungchannelforyou/opt/anaconda3/envs/dacon1/lib/python3.7/site-packages/sklearn/metrics/_classification.py\", line 1367, in _check_set_wise_labels\n",
      "    \"choose another average setting, one of %r.\" % (y_type, average_options)\n",
      "ValueError: Target is multiclass but average='binary'. Please choose another average setting, one of [None, 'micro', 'macro', 'weighted'].\n",
      "\n",
      "  UserWarning,\n",
      "/Users/yungchannelforyou/opt/anaconda3/envs/dacon1/lib/python3.7/site-packages/sklearn/model_selection/_validation.py:774: UserWarning: Scoring failed. The score on this train-test partition for these parameters will be set to nan. Details: \n",
      "Traceback (most recent call last):\n",
      "  File \"/Users/yungchannelforyou/opt/anaconda3/envs/dacon1/lib/python3.7/site-packages/sklearn/model_selection/_validation.py\", line 761, in _score\n",
      "    scores = scorer(estimator, X_test, y_test)\n",
      "  File \"/Users/yungchannelforyou/opt/anaconda3/envs/dacon1/lib/python3.7/site-packages/sklearn/metrics/_scorer.py\", line 221, in __call__\n",
      "    sample_weight=sample_weight,\n",
      "  File \"/Users/yungchannelforyou/opt/anaconda3/envs/dacon1/lib/python3.7/site-packages/sklearn/metrics/_scorer.py\", line 264, in _score\n",
      "    return self._sign * self._score_func(y_true, y_pred, **self._kwargs)\n",
      "  File \"/Users/yungchannelforyou/opt/anaconda3/envs/dacon1/lib/python3.7/site-packages/sklearn/metrics/_classification.py\", line 1131, in f1_score\n",
      "    zero_division=zero_division,\n",
      "  File \"/Users/yungchannelforyou/opt/anaconda3/envs/dacon1/lib/python3.7/site-packages/sklearn/metrics/_classification.py\", line 1270, in fbeta_score\n",
      "    zero_division=zero_division,\n",
      "  File \"/Users/yungchannelforyou/opt/anaconda3/envs/dacon1/lib/python3.7/site-packages/sklearn/metrics/_classification.py\", line 1544, in precision_recall_fscore_support\n",
      "    labels = _check_set_wise_labels(y_true, y_pred, average, labels, pos_label)\n",
      "  File \"/Users/yungchannelforyou/opt/anaconda3/envs/dacon1/lib/python3.7/site-packages/sklearn/metrics/_classification.py\", line 1367, in _check_set_wise_labels\n",
      "    \"choose another average setting, one of %r.\" % (y_type, average_options)\n",
      "ValueError: Target is multiclass but average='binary'. Please choose another average setting, one of [None, 'micro', 'macro', 'weighted'].\n",
      "\n",
      "  UserWarning,\n",
      "/Users/yungchannelforyou/opt/anaconda3/envs/dacon1/lib/python3.7/site-packages/sklearn/model_selection/_validation.py:774: UserWarning: Scoring failed. The score on this train-test partition for these parameters will be set to nan. Details: \n",
      "Traceback (most recent call last):\n",
      "  File \"/Users/yungchannelforyou/opt/anaconda3/envs/dacon1/lib/python3.7/site-packages/sklearn/model_selection/_validation.py\", line 761, in _score\n",
      "    scores = scorer(estimator, X_test, y_test)\n",
      "  File \"/Users/yungchannelforyou/opt/anaconda3/envs/dacon1/lib/python3.7/site-packages/sklearn/metrics/_scorer.py\", line 221, in __call__\n",
      "    sample_weight=sample_weight,\n",
      "  File \"/Users/yungchannelforyou/opt/anaconda3/envs/dacon1/lib/python3.7/site-packages/sklearn/metrics/_scorer.py\", line 264, in _score\n",
      "    return self._sign * self._score_func(y_true, y_pred, **self._kwargs)\n",
      "  File \"/Users/yungchannelforyou/opt/anaconda3/envs/dacon1/lib/python3.7/site-packages/sklearn/metrics/_classification.py\", line 1131, in f1_score\n",
      "    zero_division=zero_division,\n",
      "  File \"/Users/yungchannelforyou/opt/anaconda3/envs/dacon1/lib/python3.7/site-packages/sklearn/metrics/_classification.py\", line 1270, in fbeta_score\n",
      "    zero_division=zero_division,\n",
      "  File \"/Users/yungchannelforyou/opt/anaconda3/envs/dacon1/lib/python3.7/site-packages/sklearn/metrics/_classification.py\", line 1544, in precision_recall_fscore_support\n",
      "    labels = _check_set_wise_labels(y_true, y_pred, average, labels, pos_label)\n",
      "  File \"/Users/yungchannelforyou/opt/anaconda3/envs/dacon1/lib/python3.7/site-packages/sklearn/metrics/_classification.py\", line 1367, in _check_set_wise_labels\n",
      "    \"choose another average setting, one of %r.\" % (y_type, average_options)\n",
      "ValueError: Target is multiclass but average='binary'. Please choose another average setting, one of [None, 'micro', 'macro', 'weighted'].\n",
      "\n",
      "  UserWarning,\n",
      "/Users/yungchannelforyou/opt/anaconda3/envs/dacon1/lib/python3.7/site-packages/sklearn/model_selection/_validation.py:774: UserWarning: Scoring failed. The score on this train-test partition for these parameters will be set to nan. Details: \n",
      "Traceback (most recent call last):\n",
      "  File \"/Users/yungchannelforyou/opt/anaconda3/envs/dacon1/lib/python3.7/site-packages/sklearn/model_selection/_validation.py\", line 761, in _score\n",
      "    scores = scorer(estimator, X_test, y_test)\n",
      "  File \"/Users/yungchannelforyou/opt/anaconda3/envs/dacon1/lib/python3.7/site-packages/sklearn/metrics/_scorer.py\", line 221, in __call__\n",
      "    sample_weight=sample_weight,\n",
      "  File \"/Users/yungchannelforyou/opt/anaconda3/envs/dacon1/lib/python3.7/site-packages/sklearn/metrics/_scorer.py\", line 264, in _score\n",
      "    return self._sign * self._score_func(y_true, y_pred, **self._kwargs)\n",
      "  File \"/Users/yungchannelforyou/opt/anaconda3/envs/dacon1/lib/python3.7/site-packages/sklearn/metrics/_classification.py\", line 1131, in f1_score\n",
      "    zero_division=zero_division,\n",
      "  File \"/Users/yungchannelforyou/opt/anaconda3/envs/dacon1/lib/python3.7/site-packages/sklearn/metrics/_classification.py\", line 1270, in fbeta_score\n",
      "    zero_division=zero_division,\n",
      "  File \"/Users/yungchannelforyou/opt/anaconda3/envs/dacon1/lib/python3.7/site-packages/sklearn/metrics/_classification.py\", line 1544, in precision_recall_fscore_support\n",
      "    labels = _check_set_wise_labels(y_true, y_pred, average, labels, pos_label)\n",
      "  File \"/Users/yungchannelforyou/opt/anaconda3/envs/dacon1/lib/python3.7/site-packages/sklearn/metrics/_classification.py\", line 1367, in _check_set_wise_labels\n",
      "    \"choose another average setting, one of %r.\" % (y_type, average_options)\n",
      "ValueError: Target is multiclass but average='binary'. Pl/Users/yungchannelforyou/opt/anaconda3/envs/dacon1/lib/python3.7/site-packages/sklearn/model_selection/_validation.py:774: UserWarning: Scoring failed. The score on this train-test partition for these parameters will be set to nan. Details: \n",
      "Traceback (most recent call last):\n",
      "  File \"/Users/yungchannelforyou/opt/anaconda3/envs/dacon1/lib/python3.7/site-packages/sklearn/model_selection/_validation.py\", line 761, in _score\n",
      "    scores = scorer(estimator, X_test, y_test)\n",
      "  File \"/Users/yungchannelforyou/opt/anaconda3/envs/dacon1/lib/python3.7/site-packages/sklearn/metrics/_scorer.py\", line 221, in __call__\n",
      "    sample_weight=sample_weight,\n",
      "  File \"/Users/yungchannelforyou/opt/anaconda3/envs/dacon1/lib/python3.7/site-packages/sklearn/metrics/_scorer.py\", line 264, in _score\n",
      "    return self._sign * self._score_func(y_true, y_pred, **self._kwargs)\n",
      "  File \"/Users/yungchannelforyou/opt/anaconda3/envs/dacon1/lib/python3.7/site-packages/sklearn/metrics/_classification.py\", line 1131, in f1_score\n",
      "    zero_division=zero_division,\n",
      "  File \"/Users/yungchannelforyou/opt/anaconda3/envs/dacon1/lib/python3.7/site-packages/sklearn/metrics/_classification.py\", line 1270, in fbeta_score\n",
      "    zero_division=zero_division,\n",
      "  File \"/Users/yungchannelforyou/opt/anaconda3/envs/dacon1/lib/python3.7/site-packages/sklearn/metrics/_classification.py\", line 1544, in precision_recall_fscore_support\n",
      "    labels = _check_set_wise_labels(y_true, y_pred, average, labels, pos_label)\n",
      "  File \"/Users/yungchannelforyou/opt/anaconda3/envs/dacon1/lib/python3.7/site-packages/sklearn/metrics/_classification.py\", line 1367, in _check_set_wise_labels\n",
      "    \"choose another average setting, one of %r.\" % (y_type, average_options)\n",
      "ValueError: Target is multiclass but average='binary'. Please choose another average setting, one of [None, 'micro', 'macro', 'weighted'].\n",
      "\n",
      "  UserWarning,\n",
      "ease choose another average setting, one of [None, 'micro', 'macro', 'weighted'].\n",
      "\n",
      "  UserWarning,\n",
      "/Users/yungchannelforyou/opt/anaconda3/envs/dacon1/lib/python3.7/site-packages/sklearn/model_selection/_validation.py:774: UserWarning: Scoring failed. The score on this train-test partition for these parameters will be set to nan. Details: \n",
      "Traceback (most recent call last):\n",
      "  File \"/Users/yungchannelforyou/opt/anaconda3/envs/dacon1/lib/python3.7/site-packages/sklearn/model_selection/_validation.py\", line 761, in _score\n",
      "    scores = scorer(estimator, X_test, y_test)\n",
      "  File \"/Users/yungchannelforyou/opt/anaconda3/envs/dacon1/lib/python3.7/site-packages/sklearn/metrics/_scorer.py\", line 221, in __call__\n",
      "    sample_weight=sample_weight,\n",
      "  File \"/Users/yungchannelforyou/opt/anaconda3/envs/dacon1/lib/python3.7/site-packages/sklearn/metrics/_scorer.py\", line 264, in _score\n",
      "    return self._sign * self._score_func(y_true, y_pred, **self._kwargs)\n",
      "  File \"/Users/yungchannelforyou/opt/anaconda3/envs/dacon1/lib/python3.7/site-packages/sklearn/metrics/_classification.py\", line 1131, in f1_score\n",
      "    zero_division=zero_division,\n",
      "  File \"/Users/yungchannelforyou/opt/anaconda3/envs/dacon1/lib/python3.7/site-packages/sklearn/metrics/_classification.py\", line 1270, in fbeta_score\n",
      "    zero_division=zero_division,\n",
      "  File \"/Users/yungchannelforyou/opt/anaconda3/envs/dacon1/lib/python3.7/site-packages/sklearn/metrics/_classification.py\", line 1544, in precision_recall_fscore_support\n",
      "    labels = _check_set_wise_labels(y_true, y_pred, average, labels, pos_label)\n",
      "  File \"/Users/yungchannelforyou/opt/anaconda3/envs/dacon1/lib/python3.7/site-packages/sklearn/metrics/_classification.py\", line 1367, in _check_set_wise_labels\n",
      "    \"choose another average setting, one of %r.\" % (y_type, average_options)\n",
      "ValueError: Target is multiclass but average='binary'. Please choose another average setting, one of [None, 'micro', 'macro', 'weighted'].\n",
      "\n",
      "  UserWarning,\n",
      "/Users/yungchannelforyou/opt/anaconda3/envs/dacon1/lib/python3.7/site-packages/sklearn/model_selection/_validation.py:774: UserWarning: Scoring failed. The score on this train-test partition for these parameters will be set to nan. Details: \n",
      "Traceback (most recent call last):\n",
      "  File \"/Users/yungchannelforyou/opt/anaconda3/envs/dacon1/lib/python3.7/site-packages/sklearn/model_selection/_validation.py\", line 761, in _score\n",
      "    scores = scorer(estimator, X_test, y_test)\n",
      "  File \"/Users/yungchannelforyou/opt/anaconda3/envs/dacon1/lib/python3.7/site-packages/sklearn/metrics/_scorer.py\", line 221, in __call__\n",
      "    sample_weight=sample_weight,\n",
      "  File \"/Users/yungchannelforyou/opt/anaconda3/envs/dacon1/lib/python3.7/site-packages/sklearn/metrics/_scorer.py\", line 264, in _score\n",
      "    return self._sign * self._score_func(y_true, y_pred, **self._kwargs)\n",
      "  File \"/Users/yungchannelforyou/opt/anaconda3/envs/dacon1/lib/python3.7/site-packages/sklearn/metrics/_classification.py\", line 1131, in f1_score\n",
      "    zero_division=zero_division,\n",
      "  File \"/Users/yungchannelforyou/opt/anaconda3/envs/dacon1/lib/python3.7/site-packages/sklearn/metrics/_classification.py\", line 1270, in fbeta_score\n",
      "    zero_division=zero_division,\n",
      "  File \"/Users/yungchannelforyou/opt/anaconda3/envs/dacon1/lib/python3.7/site-packages/sklearn/metrics/_classification.py\", line 1544, in precision_recall_fscore_support\n",
      "    labels = _check_set_wise_labels(y_true, y_pred, average, labels, pos_label)\n",
      "  File \"/Users/yungchannelforyou/opt/anaconda3/envs/dacon1/lib/python3.7/site-packages/sklearn/metrics/_classification.py\", line 1367, in _check_set_wise_labels\n",
      "    \"choose another average setting, one of %r.\" % (y_type, average_options)\n",
      "ValueError: Target is multiclass but average='binary'. Please choose another average setting, one of [None, 'micro', 'macro', 'weighted'].\n",
      "\n",
      "  UserWarning,\n",
      "/Users/yungchannelforyou/opt/anaconda3/envs/dacon1/lib/python3.7/site-packages/sklearn/model_selection/_validation.py:774: UserWarning: Scoring failed. The score on this train-test partition for these parameters will be set to nan. Details: \n",
      "Traceback (most recent call last):\n",
      "  File \"/Users/yungchannelforyou/opt/anaconda3/envs/dacon1/lib/python3.7/site-packages/sklearn/model_selection/_validation.py\", line 761, in _score\n",
      "    scores = scorer(estimator, X_test, y_test)\n",
      "  File \"/Users/yungchannelforyou/opt/anaconda3/envs/dacon1/lib/python3.7/site-packages/sklearn/metrics/_scorer.py\", line 221, in __call__\n",
      "    sample_weight=sample_weight,\n",
      "  File \"/Users/yungchannelforyou/opt/anaconda3/envs/dacon1/lib/python3.7/site-packages/sklearn/metrics/_scorer.py\", line 264, in _score\n",
      "    return self._sign * self._score_func(y_true, y_pred, **self._kwargs)\n",
      "  File \"/Users/yungchannelforyou/opt/anaconda3/envs/dacon1/lib/python3.7/site-packages/sklearn/metrics/_classification.py\", line 1131, in f1_score\n",
      "    zero_division=zero_division,\n",
      "  File \"/Users/yungchannelforyou/opt/anaconda3/envs/dacon1/lib/python3.7/site-packages/sklearn/metrics/_classification.py\", line 1270, in fbeta_score\n",
      "    zero_division=zero_division,\n",
      "  File \"/Users/yungchannelforyou/opt/anaconda3/envs/dacon1/lib/python3.7/site-packages/sklearn/metrics/_classification.py\", line 1544, in precision_recall_fscore_support\n",
      "    labels = _check_set_wise_labels(y_true, y_pred, average, labels, pos_label)\n",
      "  File \"/Users/yungchannelforyou/opt/anaconda3/envs/dacon1/lib/python3.7/site-packages/sklearn/metrics/_classification.py\", line 1367, in _check_set_wise_labels\n",
      "    \"choose another average setting, one of %r.\" % (y_type, average_options)\n",
      "ValueError: Target is multiclass but average='binary'. Please choose another average setting, one of [None, 'micro', 'macro', 'weighted'].\n",
      "\n",
      "  UserWarning,\n",
      "/Users/yungchannelforyou/opt/anaconda3/envs/dacon1/lib/python3.7/site-packages/sklearn/model_selection/_validation.py:774: UserWarning: Scoring failed. The score on this train-test partition for these parameters will be set to nan. Details: \n",
      "Traceback (most recent call last):\n",
      "  File \"/Users/yungchannelforyou/opt/anaconda3/envs/dacon1/lib/python3.7/site-packages/sklearn/model_selection/_validation.py\", line 761, in _score\n",
      "    scores = scorer(estimator, X_test, y_test)\n",
      "  File \"/Users/yungchannelforyou/opt/anaconda3/envs/dacon1/lib/python3.7/site-packages/sklearn/metrics/_scorer.py\", line 221, in __call__\n",
      "    sample_weight=sample_weight,\n",
      "  File \"/Users/yungchannelforyou/opt/anaconda3/envs/dacon1/lib/python3.7/site-packages/sklearn/metrics/_scorer.py\", line 264, in _score\n",
      "    return self._sign * self._score_func(y_true, y_pred, **self._kwargs)\n",
      "  File \"/Users/yungchannelforyou/opt/anaconda3/envs/dacon1/lib/python3.7/site-packages/sklearn/metrics/_classification.py\", line 1131, in f1_score\n",
      "    zero_division=zero_division,\n",
      "  File \"/Users/yungchannelforyou/opt/anaconda3/envs/dacon1/lib/python3.7/site-packages/sklearn/metrics/_classification.py\", line 1270, in fbeta_score\n",
      "    zero_division=zero_division,\n",
      "  File \"/Users/yungchannelforyou/opt/anaconda3/envs/dacon1/lib/python3.7/site-packages/sklearn/metrics/_classification.py\", line 1544, in precision_recall_fscore_support\n",
      "    labels = _check_set_wise_labels(y_true, y_pred, average, labels, pos_label)\n",
      "  File \"/Users/yungchannelforyou/opt/anaconda3/envs/dacon1/lib/python3.7/site-packages/sklearn/metrics/_classification.py\", line 1367, in _check_set_wise_labels\n",
      "    \"choose another average setting, one of %r.\" % (y_type, average_options)\n",
      "ValueError: Target is multiclass but average='binary'. Please choose another average setting, one of [None, 'micro', 'macro', 'weighted'].\n",
      "\n",
      "  UserWarning,\n",
      "/Users/yungchannelforyou/opt/anaconda3/envs/dacon1/lib/python3.7/site-packages/sklearn/model_selection/_search.py:972: UserWarning: One or more of the test scores are non-finite: [nan nan]\n",
      "  category=UserWarning,\n"
     ]
    },
    {
     "data": {
      "text/plain": [
       "GridSearchCV(cv=5, estimator=Pipeline(steps=[('model', SVC())]), n_jobs=-1,\n",
       "             param_grid={'model__C': [0.001],\n",
       "                         'model__class_weight': [None, 'balanced'],\n",
       "                         'model__kernel': ['linear']},\n",
       "             scoring='f1')"
      ]
     },
     "execution_count": 11,
     "metadata": {},
     "output_type": "execute_result"
    }
   ],
   "source": [
    "hyper_parameter = {'model__C':[0.001],\n",
    "                  'model__kernel':['linear'],\n",
    "                  'model__class_weight':[None, 'balanced']}\n",
    "\n",
    "grid_model = GridSearchCV(pip_model, \n",
    "                         param_grid=hyper_parameter, \n",
    "                         cv=5, n_jobs = -1, scoring='f1')\n",
    "\n",
    "grid_model.fit(X_train, Y_train)"
   ]
  },
  {
   "cell_type": "code",
   "execution_count": 12,
   "id": "5e7e790f",
   "metadata": {},
   "outputs": [
    {
     "data": {
      "text/plain": [
       "Pipeline(steps=[('model', SVC(C=0.001, kernel='linear'))])"
      ]
     },
     "execution_count": 12,
     "metadata": {},
     "output_type": "execute_result"
    }
   ],
   "source": [
    "best_model = grid_model.best_estimator_\n",
    "best_model"
   ]
  },
  {
   "cell_type": "code",
   "execution_count": 13,
   "id": "6fc58410",
   "metadata": {},
   "outputs": [],
   "source": [
    "Y_train_pred = best_model.predict(X_train)\n",
    "Y_test_pred = best_model.predict(test_x)\n",
    "submit = pd.read_csv('rmSPN1,2,6,12_c0.001SVM.csv')\n",
    "Y_test = submit[\"class\"]"
   ]
  },
  {
   "cell_type": "code",
   "execution_count": 14,
   "id": "ac91782c",
   "metadata": {},
   "outputs": [
    {
     "data": {
      "text/plain": [
       "B    83\n",
       "A    51\n",
       "C    41\n",
       "dtype: int64"
      ]
     },
     "execution_count": 14,
     "metadata": {},
     "output_type": "execute_result"
    }
   ],
   "source": [
    "test_y_pred = pd.DataFrame(Y_test_pred)\n",
    "test_y_pred= test_y_pred.replace({0:'A',1:'B',2:'C'})\n",
    "test_y_pred.value_counts()"
   ]
  },
  {
   "cell_type": "code",
   "execution_count": 15,
   "id": "08eb8490",
   "metadata": {},
   "outputs": [
    {
     "name": "stdout",
     "output_type": "stream",
     "text": [
      "              precision    recall  f1-score   support\n",
      "\n",
      "           A       0.99      1.00      1.00       114\n",
      "           B       0.96      0.94      0.95       114\n",
      "           C       0.94      0.96      0.95       114\n",
      "\n",
      "    accuracy                           0.96       342\n",
      "   macro avg       0.96      0.96      0.96       342\n",
      "weighted avg       0.96      0.96      0.96       342\n",
      "\n"
     ]
    }
   ],
   "source": [
    "print(classification_report(Y_train, Y_train_pred))"
   ]
  }
 ],
 "metadata": {
  "kernelspec": {
   "display_name": "my_env",
   "language": "python",
   "name": "python3"
  },
  "language_info": {
   "codemirror_mode": {
    "name": "ipython",
    "version": 3
   },
   "file_extension": ".py",
   "mimetype": "text/x-python",
   "name": "python",
   "nbconvert_exporter": "python",
   "pygments_lexer": "ipython3",
   "version": "3.7.16"
  },
  "vscode": {
   "interpreter": {
    "hash": "21ee62861c8e06a3af3be37e25949644a185e563f086aa66a49b0b38d93335a9"
   }
  }
 },
 "nbformat": 4,
 "nbformat_minor": 5
}
