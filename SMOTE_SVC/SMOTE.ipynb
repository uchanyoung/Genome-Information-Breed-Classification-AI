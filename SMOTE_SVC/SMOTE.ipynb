{
  "nbformat": 4,
  "nbformat_minor": 0,
  "metadata": {
    "colab": {
      "provenance": []
    },
    "kernelspec": {
      "name": "python3",
      "display_name": "Python 3"
    },
    "language_info": {
      "name": "python"
    }
  },
  "cells": [
    {
      "cell_type": "code",
      "execution_count": 709,
      "metadata": {
        "id": "KG8qbLJqYbh5"
      },
      "outputs": [],
      "source": [
        "import pandas as pd\n",
        "import random\n",
        "import os\n",
        "import numpy as np\n",
        "\n",
        "from sklearn import preprocessing\n",
        "from sklearn.ensemble import RandomForestClassifier"
      ]
    },
    {
      "cell_type": "code",
      "source": [
        "class CFG:\n",
        "    SEED = 42"
      ],
      "metadata": {
        "id": "QOQzRiz0gcVY"
      },
      "execution_count": 710,
      "outputs": []
    },
    {
      "cell_type": "code",
      "source": [
        "def seed_everything(seed):\n",
        "    random.seed(seed)\n",
        "    os.environ['PYTHONHASHSEED'] = str(seed)\n",
        "    np.random.seed(seed)\n",
        "seed_everything(CFG.SEED) # Seed 고정"
      ],
      "metadata": {
        "id": "ryeYq81GgdmX"
      },
      "execution_count": 711,
      "outputs": []
    },
    {
      "cell_type": "code",
      "source": [
        "train = pd.read_csv('./train.csv')\n",
        "test = pd.read_csv('./test.csv')"
      ],
      "metadata": {
        "id": "rAg1tv9EZaWf"
      },
      "execution_count": 712,
      "outputs": []
    },
    {
      "cell_type": "code",
      "source": [
        "def get_x_y(df):\n",
        "  if 'class' in df.columns:\n",
        "    df_x = df.drop(columns=['id','class'])\n",
        "    df_y = df['class']\n",
        "    return df_x, df_y\n",
        "  else :\n",
        "    df_x = df.drop(columns=['id'])\n",
        "    return df_x\n",
        "    \n",
        "train_x, train_y = get_x_y(train)\n",
        "test_x = get_x_y(test)"
      ],
      "metadata": {
        "id": "DEmOt5I0VFu7"
      },
      "execution_count": 713,
      "outputs": []
    },
    {
      "cell_type": "code",
      "source": [
        "\n",
        "class_le = preprocessing.LabelEncoder()\n",
        "snp_le = preprocessing.LabelEncoder()\n",
        "snp_col = [f'SNP_{str(x).zfill(2)}' for x in range(1,16)]\n",
        "\n",
        "snp_data = []\n",
        "for col in snp_col:\n",
        "    snp_data += list(train_x[col].values)\n",
        "\n",
        "train_y = class_le.fit_transform(train_y)\n",
        "snp_le.fit(snp_data)\n",
        "\n",
        "for col in train_x.columns:\n",
        "    if col in snp_col:\n",
        "        train_x[col] = snp_le.transform(train_x[col])\n",
        "        test_x[col] = snp_le.transform(test_x[col])"
      ],
      "metadata": {
        "id": "BPmZuNjVbHdg"
      },
      "execution_count": 714,
      "outputs": []
    },
    {
      "cell_type": "code",
      "source": [
        "from sklearn.model_selection import train_test_split\n",
        "\n",
        "from imblearn.over_sampling import SMOTE\n",
        "from sklearn.pipeline import Pipeline\n",
        "from sklearn.impute import SimpleImputer\n",
        "from sklearn.preprocessing import StandardScaler\n",
        "from sklearn.svm import SVC\n",
        "\n",
        "from sklearn.ensemble import VotingClassifier\n",
        "from sklearn.tree import DecisionTreeClassifier\n",
        "from sklearn.ensemble import RandomForestClassifier\n",
        "from sklearn.ensemble import GradientBoostingClassifier\n",
        "from sklearn.tree import DecisionTreeRegressor\n",
        "from sklearn.svm import SVR\n",
        "from sklearn.linear_model import LinearRegression\n",
        "from sklearn.linear_model import Lasso\n",
        "\n",
        "from sklearn.metrics import r2_score\n",
        "from sklearn.metrics import mean_squared_error\n",
        "from sklearn.model_selection import GridSearchCV\n",
        "\n",
        "from sklearn.metrics import classification_report"
      ],
      "metadata": {
        "id": "ofjovc1UeliU"
      },
      "execution_count": 715,
      "outputs": []
    },
    {
      "cell_type": "code",
      "source": [
        "sampler = SMOTE()\n",
        "sampler.fit(train_x, train_y)\n",
        "train_x, train_y = sampler.fit_resample(train_x, train_y)"
      ],
      "metadata": {
        "id": "MNXtwypjxC55"
      },
      "execution_count": 716,
      "outputs": []
    },
    {
      "cell_type": "code",
      "source": [
        "pipe_list = [('impute', SimpleImputer()),\n",
        "             ('scaler',StandardScaler()),\n",
        "             ('model', SVC())]\n",
        "pip_model = Pipeline(pipe_list)"
      ],
      "metadata": {
        "id": "f2f8MRBredXV"
      },
      "execution_count": 717,
      "outputs": []
    },
    {
      "cell_type": "code",
      "source": [
        "hyper_parameter = {'model__C':[0.001],\n",
        "                  'model__kernel':['linear'],\n",
        "                  'model__class_weight':[None, 'balanced']}\n",
        "grid_model = GridSearchCV(pip_model, \n",
        "                         param_grid=hyper_parameter,\n",
        "                         cv=5, n_jobs = -1, scoring='f1')\n",
        "\n",
        "grid_model.fit(train_x, train_y)"
      ],
      "metadata": {
        "colab": {
          "base_uri": "https://localhost:8080/"
        },
        "id": "KZjvkQy-gGmR",
        "outputId": "027ad45b-bdf7-4998-fa1d-80354e178982"
      },
      "execution_count": 718,
      "outputs": [
        {
          "output_type": "stream",
          "name": "stderr",
          "text": [
            "/usr/local/lib/python3.8/dist-packages/sklearn/model_selection/_search.py:969: UserWarning: One or more of the test scores are non-finite: [nan nan]\n",
            "  warnings.warn(\n"
          ]
        },
        {
          "output_type": "execute_result",
          "data": {
            "text/plain": [
              "GridSearchCV(cv=5,\n",
              "             estimator=Pipeline(steps=[('impute', SimpleImputer()),\n",
              "                                       ('scaler', StandardScaler()),\n",
              "                                       ('model', SVC())]),\n",
              "             n_jobs=-1,\n",
              "             param_grid={'model__C': [0.001],\n",
              "                         'model__class_weight': [None, 'balanced'],\n",
              "                         'model__kernel': ['linear']},\n",
              "             scoring='f1')"
            ]
          },
          "metadata": {},
          "execution_count": 718
        }
      ]
    },
    {
      "cell_type": "code",
      "source": [
        "best_model = grid_model.best_estimator_\n",
        "Y_train_pred = best_model.predict(train_x)\n",
        "Y_test_pred = best_model.predict(test_x)"
      ],
      "metadata": {
        "id": "u9f5JgV0xiRm"
      },
      "execution_count": 719,
      "outputs": []
    },
    {
      "cell_type": "code",
      "source": [
        "submit = pd.read_csv('rmSPN1,2,6,12_c0.001SVM.csv')\n",
        "Y_test = submit[\"class\"]"
      ],
      "metadata": {
        "id": "eGEhNRHas5MW"
      },
      "execution_count": 720,
      "outputs": []
    },
    {
      "cell_type": "code",
      "source": [
        "Y_test_pred = pd.DataFrame(Y_test_pred)\n",
        "Y_test_pred = Y_test_pred.replace({0:'A',1:'B',2:'C'})\n",
        "Y_test_pred.value_counts()"
      ],
      "metadata": {
        "colab": {
          "base_uri": "https://localhost:8080/"
        },
        "id": "33bKAq124i5J",
        "outputId": "01cdee4b-e545-4261-b901-68d1d7eb86ed"
      },
      "execution_count": 721,
      "outputs": [
        {
          "output_type": "execute_result",
          "data": {
            "text/plain": [
              "B    87\n",
              "A    51\n",
              "C    37\n",
              "dtype: int64"
            ]
          },
          "metadata": {},
          "execution_count": 721
        }
      ]
    },
    {
      "cell_type": "code",
      "source": [
        "print(mean_squared_error(train_y,Y_train_pred)) #0"
      ],
      "metadata": {
        "colab": {
          "base_uri": "https://localhost:8080/"
        },
        "id": "JmWbFeTd3C8J",
        "outputId": "565cb86d-a798-46d4-b204-74dfea3de00c"
      },
      "execution_count": 722,
      "outputs": [
        {
          "output_type": "stream",
          "name": "stdout",
          "text": [
            "0.04093567251461988\n"
          ]
        }
      ]
    },
    {
      "cell_type": "code",
      "source": [
        "r2_score(train_y, Y_train_pred) #1"
      ],
      "metadata": {
        "colab": {
          "base_uri": "https://localhost:8080/"
        },
        "id": "0U0knXhH36w5",
        "outputId": "3ca358eb-50ae-4ca1-f109-b826365a955e"
      },
      "execution_count": 723,
      "outputs": [
        {
          "output_type": "execute_result",
          "data": {
            "text/plain": [
              "0.9385964912280702"
            ]
          },
          "metadata": {},
          "execution_count": 723
        }
      ]
    },
    {
      "cell_type": "code",
      "source": [
        "print(classification_report(train_y, Y_train_pred))"
      ],
      "metadata": {
        "colab": {
          "base_uri": "https://localhost:8080/"
        },
        "id": "4MCQW6Yr7JWy",
        "outputId": "04a85d3d-2151-45bd-b549-6cffb8f81bf5"
      },
      "execution_count": 724,
      "outputs": [
        {
          "output_type": "stream",
          "name": "stdout",
          "text": [
            "              precision    recall  f1-score   support\n",
            "\n",
            "           0       1.00      1.00      1.00       114\n",
            "           1       0.91      0.97      0.94       114\n",
            "           2       0.97      0.90      0.94       114\n",
            "\n",
            "    accuracy                           0.96       342\n",
            "   macro avg       0.96      0.96      0.96       342\n",
            "weighted avg       0.96      0.96      0.96       342\n",
            "\n"
          ]
        }
      ]
    },
    {
      "cell_type": "code",
      "source": [
        "print(classification_report(Y_test,Y_test_pred))"
      ],
      "metadata": {
        "colab": {
          "base_uri": "https://localhost:8080/"
        },
        "id": "ov_Dl1M3WB04",
        "outputId": "4975b05a-ec43-4105-e746-1c961d93becf"
      },
      "execution_count": 725,
      "outputs": [
        {
          "output_type": "stream",
          "name": "stdout",
          "text": [
            "              precision    recall  f1-score   support\n",
            "\n",
            "           A       1.00      1.00      1.00        51\n",
            "           B       0.99      0.99      0.99        87\n",
            "           C       0.97      0.97      0.97        37\n",
            "\n",
            "    accuracy                           0.99       175\n",
            "   macro avg       0.99      0.99      0.99       175\n",
            "weighted avg       0.99      0.99      0.99       175\n",
            "\n"
          ]
        }
      ]
    },
    {
      "cell_type": "code",
      "source": [
        "preds = grid_model.predict(test_x)\n",
        "print('Done.')"
      ],
      "metadata": {
        "colab": {
          "base_uri": "https://localhost:8080/"
        },
        "id": "M1gDKZjZJzFe",
        "outputId": "d5ea3c07-685e-4a55-b89a-8aa950abbb63"
      },
      "execution_count": 726,
      "outputs": [
        {
          "output_type": "stream",
          "name": "stdout",
          "text": [
            "Done.\n"
          ]
        }
      ]
    },
    {
      "cell_type": "code",
      "source": [
        "submit = pd.read_csv('./sample_submission.csv')\n",
        "submit['class'] = class_le.inverse_transform(preds)\n",
        "submit.to_csv('./SMOTE_SVC.csv', index=False)"
      ],
      "metadata": {
        "id": "LEF5VsEnKQdu"
      },
      "execution_count": 727,
      "outputs": []
    }
  ]
}